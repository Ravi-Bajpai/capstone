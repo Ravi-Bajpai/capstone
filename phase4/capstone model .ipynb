{
 "cells": [
  {
   "cell_type": "code",
   "execution_count": 2,
   "id": "d6655b24",
   "metadata": {},
   "outputs": [],
   "source": [
    "import pandas as pd\n",
    "import numpy as np\n",
    "import matplotlib.pyplot as plt\n",
    "import seaborn as sns\n",
    "import pickle\n",
    "import warnings\n",
    "warnings.filterwarnings('ignore')"
   ]
  },
  {
   "cell_type": "code",
   "execution_count": 16,
   "id": "67260d72",
   "metadata": {},
   "outputs": [
    {
     "data": {
      "text/html": [
       "<div>\n",
       "<style scoped>\n",
       "    .dataframe tbody tr th:only-of-type {\n",
       "        vertical-align: middle;\n",
       "    }\n",
       "\n",
       "    .dataframe tbody tr th {\n",
       "        vertical-align: top;\n",
       "    }\n",
       "\n",
       "    .dataframe thead th {\n",
       "        text-align: right;\n",
       "    }\n",
       "</style>\n",
       "<table border=\"1\" class=\"dataframe\">\n",
       "  <thead>\n",
       "    <tr style=\"text-align: right;\">\n",
       "      <th></th>\n",
       "      <th>STATE/UT_code</th>\n",
       "      <th>Population</th>\n",
       "      <th>Literacy</th>\n",
       "      <th>Area(Km2)</th>\n",
       "      <th>MURDER</th>\n",
       "      <th>ATTEMPT TO MURDER</th>\n",
       "      <th>CULPABLE HOMICIDE</th>\n",
       "      <th>RAPE</th>\n",
       "      <th>OTHER RAPE</th>\n",
       "      <th>KIDNAPPING &amp; ABDUCTION</th>\n",
       "      <th>...</th>\n",
       "      <th>TOTAL-OTHER PLACES</th>\n",
       "      <th>TOTAL - Dacoity</th>\n",
       "      <th>TOTAL - Robbery</th>\n",
       "      <th>TOTAL - Burglary</th>\n",
       "      <th>TOTAL - Theft</th>\n",
       "      <th>Police_Injured_Total_Policemen</th>\n",
       "      <th>Police_Killed_Total_Policemen</th>\n",
       "      <th>Cases_Property_Recovered</th>\n",
       "      <th>Cases_Property_Stolen</th>\n",
       "      <th>Cases_Registered_under_Human_Rights_Violations</th>\n",
       "    </tr>\n",
       "  </thead>\n",
       "  <tbody>\n",
       "    <tr>\n",
       "      <th>0</th>\n",
       "      <td>1</td>\n",
       "      <td>199812341</td>\n",
       "      <td>67.68</td>\n",
       "      <td>240928.0</td>\n",
       "      <td>130886</td>\n",
       "      <td>121040</td>\n",
       "      <td>34532</td>\n",
       "      <td>38116</td>\n",
       "      <td>38112</td>\n",
       "      <td>118532</td>\n",
       "      <td>...</td>\n",
       "      <td>144512</td>\n",
       "      <td>4809</td>\n",
       "      <td>30767</td>\n",
       "      <td>65587</td>\n",
       "      <td>312047</td>\n",
       "      <td>2318</td>\n",
       "      <td>2150</td>\n",
       "      <td>194531</td>\n",
       "      <td>672276</td>\n",
       "      <td>108</td>\n",
       "    </tr>\n",
       "    <tr>\n",
       "      <th>1</th>\n",
       "      <td>2</td>\n",
       "      <td>112374333</td>\n",
       "      <td>82.34</td>\n",
       "      <td>307713.0</td>\n",
       "      <td>65534</td>\n",
       "      <td>41178</td>\n",
       "      <td>2818</td>\n",
       "      <td>35972</td>\n",
       "      <td>35968</td>\n",
       "      <td>30202</td>\n",
       "      <td>...</td>\n",
       "      <td>432899</td>\n",
       "      <td>8175</td>\n",
       "      <td>37719</td>\n",
       "      <td>185617</td>\n",
       "      <td>556807</td>\n",
       "      <td>11746</td>\n",
       "      <td>1824</td>\n",
       "      <td>515253</td>\n",
       "      <td>1535782</td>\n",
       "      <td>90</td>\n",
       "    </tr>\n",
       "    <tr>\n",
       "      <th>2</th>\n",
       "      <td>3</td>\n",
       "      <td>104099452</td>\n",
       "      <td>61.80</td>\n",
       "      <td>94163.0</td>\n",
       "      <td>82490</td>\n",
       "      <td>81838</td>\n",
       "      <td>7344</td>\n",
       "      <td>26248</td>\n",
       "      <td>26244</td>\n",
       "      <td>74440</td>\n",
       "      <td>...</td>\n",
       "      <td>70930</td>\n",
       "      <td>11099</td>\n",
       "      <td>23666</td>\n",
       "      <td>40293</td>\n",
       "      <td>153372</td>\n",
       "      <td>624</td>\n",
       "      <td>462</td>\n",
       "      <td>67602</td>\n",
       "      <td>437835</td>\n",
       "      <td>52</td>\n",
       "    </tr>\n",
       "    <tr>\n",
       "      <th>3</th>\n",
       "      <td>4</td>\n",
       "      <td>91276115</td>\n",
       "      <td>76.26</td>\n",
       "      <td>88752.0</td>\n",
       "      <td>42112</td>\n",
       "      <td>29386</td>\n",
       "      <td>12666</td>\n",
       "      <td>41574</td>\n",
       "      <td>41574</td>\n",
       "      <td>51998</td>\n",
       "      <td>...</td>\n",
       "      <td>103064</td>\n",
       "      <td>2642</td>\n",
       "      <td>7354</td>\n",
       "      <td>5500</td>\n",
       "      <td>190468</td>\n",
       "      <td>7508</td>\n",
       "      <td>402</td>\n",
       "      <td>92953</td>\n",
       "      <td>405243</td>\n",
       "      <td>28</td>\n",
       "    </tr>\n",
       "    <tr>\n",
       "      <th>4</th>\n",
       "      <td>5</td>\n",
       "      <td>84580777</td>\n",
       "      <td>67.02</td>\n",
       "      <td>275045.0</td>\n",
       "      <td>63512</td>\n",
       "      <td>44840</td>\n",
       "      <td>3526</td>\n",
       "      <td>26958</td>\n",
       "      <td>26954</td>\n",
       "      <td>42478</td>\n",
       "      <td>...</td>\n",
       "      <td>159432</td>\n",
       "      <td>1987</td>\n",
       "      <td>7605</td>\n",
       "      <td>97336</td>\n",
       "      <td>287190</td>\n",
       "      <td>3780</td>\n",
       "      <td>998</td>\n",
       "      <td>365664</td>\n",
       "      <td>707653</td>\n",
       "      <td>226</td>\n",
       "    </tr>\n",
       "  </tbody>\n",
       "</table>\n",
       "<p>5 rows × 52 columns</p>\n",
       "</div>"
      ],
      "text/plain": [
       "   STATE/UT_code  Population  Literacy  Area(Km2)  MURDER  ATTEMPT TO MURDER  \\\n",
       "0              1   199812341     67.68   240928.0  130886             121040   \n",
       "1              2   112374333     82.34   307713.0   65534              41178   \n",
       "2              3   104099452     61.80    94163.0   82490              81838   \n",
       "3              4    91276115     76.26    88752.0   42112              29386   \n",
       "4              5    84580777     67.02   275045.0   63512              44840   \n",
       "\n",
       "   CULPABLE HOMICIDE    RAPE  OTHER RAPE  KIDNAPPING & ABDUCTION  ...  \\\n",
       "0               34532  38116       38112                  118532  ...   \n",
       "1                2818  35972       35968                   30202  ...   \n",
       "2                7344  26248       26244                   74440  ...   \n",
       "3               12666  41574       41574                   51998  ...   \n",
       "4                3526  26958       26954                   42478  ...   \n",
       "\n",
       "   TOTAL-OTHER PLACES  TOTAL - Dacoity  TOTAL - Robbery  TOTAL - Burglary  \\\n",
       "0              144512             4809            30767             65587   \n",
       "1              432899             8175            37719            185617   \n",
       "2               70930            11099            23666             40293   \n",
       "3              103064             2642             7354              5500   \n",
       "4              159432             1987             7605             97336   \n",
       "\n",
       "   TOTAL - Theft  Police_Injured_Total_Policemen  \\\n",
       "0         312047                            2318   \n",
       "1         556807                           11746   \n",
       "2         153372                             624   \n",
       "3         190468                            7508   \n",
       "4         287190                            3780   \n",
       "\n",
       "   Police_Killed_Total_Policemen  Cases_Property_Recovered  \\\n",
       "0                           2150                    194531   \n",
       "1                           1824                    515253   \n",
       "2                            462                     67602   \n",
       "3                            402                     92953   \n",
       "4                            998                    365664   \n",
       "\n",
       "   Cases_Property_Stolen  Cases_Registered_under_Human_Rights_Violations  \n",
       "0                 672276                                             108  \n",
       "1                1535782                                              90  \n",
       "2                 437835                                              52  \n",
       "3                 405243                                              28  \n",
       "4                 707653                                             226  \n",
       "\n",
       "[5 rows x 52 columns]"
      ]
     },
     "execution_count": 16,
     "metadata": {},
     "output_type": "execute_result"
    }
   ],
   "source": [
    "data=pd.read_csv('completedata_capstone1.csv')\n",
    "data.head()"
   ]
  },
  {
   "cell_type": "code",
   "execution_count": null,
   "id": "a14d5fff",
   "metadata": {},
   "outputs": [],
   "source": []
  },
  {
   "cell_type": "code",
   "execution_count": 17,
   "id": "8cd75de3",
   "metadata": {},
   "outputs": [],
   "source": [
    "from sklearn.cluster import KMeans"
   ]
  },
  {
   "cell_type": "code",
   "execution_count": 18,
   "id": "713818cb",
   "metadata": {},
   "outputs": [
    {
     "name": "stdout",
     "output_type": "stream",
     "text": [
      "[2 0 0 0 0 0 0 0 0 0 1 1 1 1 1 1 1 1 1 1 1 1 1 1 1 1 1 1 1 1 1 1 1 1 1]\n"
     ]
    }
   ],
   "source": [
    "#fit kmean into dataset\n",
    "kmeans=KMeans(n_clusters=3,random_state=54)\n",
    "y_kmeans=kmeans.fit_predict(data)\n",
    "print(y_kmeans)"
   ]
  },
  {
   "cell_type": "code",
   "execution_count": 19,
   "id": "9e64cd60",
   "metadata": {},
   "outputs": [],
   "source": [
    "from sklearn.metrics import silhouette_score"
   ]
  },
  {
   "cell_type": "code",
   "execution_count": 20,
   "id": "00995343",
   "metadata": {},
   "outputs": [
    {
     "data": {
      "text/plain": [
       "0.7164100855418194"
      ]
     },
     "execution_count": 20,
     "metadata": {},
     "output_type": "execute_result"
    }
   ],
   "source": [
    "silhouette_score(data,y_kmeans)"
   ]
  },
  {
   "cell_type": "code",
   "execution_count": 23,
   "id": "46f463b4",
   "metadata": {},
   "outputs": [
    {
     "name": "stdout",
     "output_type": "stream",
     "text": [
      "   STATE/UT_code  Population  Literacy  Area(Km2)  MURDER  ATTEMPT TO MURDER  \\\n",
      "1              2   112374333     82.34   307713.0   65534              41178   \n",
      "2              3   104099452     61.80    94163.0   82490              81838   \n",
      "3              4    91276115     76.26    88752.0   42112              29386   \n",
      "4              5    84580777     67.02   275045.0   63512              44840   \n",
      "5              6    72626809     69.32   308252.0   56798              58916   \n",
      "6              7    72147030     80.09   130060.0   40254              53194   \n",
      "7              8    68548437     66.11   342239.0   31688              42684   \n",
      "8              9    61095297     75.36   191791.0   39874              37024   \n",
      "9             10    60439692     78.03   196244.0   27550              12224   \n",
      "\n",
      "   CULPABLE HOMICIDE    RAPE  OTHER RAPE  KIDNAPPING & ABDUCTION  ...  \\\n",
      "1                2818  35972       35968                   30202  ...   \n",
      "2                7344  26248       26244                   74440  ...   \n",
      "3               12666  41574       41574                   51998  ...   \n",
      "4                3526  26958       26954                   42478  ...   \n",
      "5                3668  72174       72172                   23916  ...   \n",
      "6                 686  13904       13900                   30606  ...   \n",
      "7                1778  31596       31596                   61454  ...   \n",
      "8                1714  10348       10344                   20058  ...   \n",
      "9                 860   8498        8498                   30492  ...   \n",
      "\n",
      "   TOTAL-OTHER PLACES  TOTAL - Dacoity  TOTAL - Robbery  TOTAL - Burglary  \\\n",
      "1              432899             8175            37719            185617   \n",
      "2               70930            11099            23666             40293   \n",
      "3              103064             2642             7354              5500   \n",
      "4              159432             1987             7605             97336   \n",
      "5              157339             1655            22314            137346   \n",
      "6              123343             1237            11272             53339   \n",
      "7              199498              563             9071             65268   \n",
      "8              146518             2581            17287             73298   \n",
      "9              155715             3842            14383             60689   \n",
      "\n",
      "   TOTAL - Theft  Police_Injured_Total_Policemen  \\\n",
      "1         556807                           11746   \n",
      "2         153372                             624   \n",
      "3         190468                            7508   \n",
      "4         287190                            3780   \n",
      "5         263860                            3780   \n",
      "6         185160                            3670   \n",
      "7         232974                            5094   \n",
      "8         199960                            4386   \n",
      "9         213207                            2174   \n",
      "\n",
      "   Police_Killed_Total_Policemen  Cases_Property_Recovered  \\\n",
      "1                           1824                    515253   \n",
      "2                            462                     67602   \n",
      "3                            402                     92953   \n",
      "4                            998                    365664   \n",
      "5                            620                    278003   \n",
      "6                            988                    374758   \n",
      "7                            800                    159169   \n",
      "8                            402                    181709   \n",
      "9                           1030                    189343   \n",
      "\n",
      "   Cases_Property_Stolen  Cases_Registered_under_Human_Rights_Violations  \n",
      "1                1535782                                              90  \n",
      "2                 437835                                              52  \n",
      "3                 405243                                              28  \n",
      "4                 707653                                             226  \n",
      "5                 819819                                              16  \n",
      "6                 476573                                              22  \n",
      "7                 557767                                              16  \n",
      "8                 570524                                              74  \n",
      "9                 622993                                             226  \n",
      "\n",
      "[9 rows x 52 columns]\n"
     ]
    }
   ],
   "source": [
    "cluster_1=data[y_kmeans==0]\n",
    "print(cluster_1)"
   ]
  },
  {
   "cell_type": "code",
   "execution_count": 24,
   "id": "c1231299",
   "metadata": {},
   "outputs": [
    {
     "name": "stdout",
     "output_type": "stream",
     "text": [
      "    STATE/UT_code  Population  Literacy  Area(Km2)  MURDER  ATTEMPT TO MURDER  \\\n",
      "10             11    41974218     72.87   155707.0   28906              31304   \n",
      "11             12    33406061     94.00    38852.0    9466              10654   \n",
      "12             13    32988134     66.41    79716.0   38120              24540   \n",
      "13             14    31205576     72.19    78438.0   30864              11324   \n",
      "14             15    27743338     75.84    50362.0   18986              20794   \n",
      "15             16    25545198     70.28   135192.0   24120              15820   \n",
      "16             17    25351462     75.55    44212.0   20942              14868   \n",
      "17             18    16787941     86.21     1483.0   12410              10554   \n",
      "18             19    12541302     67.16   222236.0   12608              20606   \n",
      "19             20    10086292     78.82    53483.0    5896               5254   \n",
      "20             21     6864602     82.80    55673.0    2908               1670   \n",
      "21             22     3673917     87.22    10486.0    4044               1362   \n",
      "22             23     2966889     74.43    22429.0    3460               1202   \n",
      "23             24     2855794     76.94    22327.0    3910               7072   \n",
      "24             25     1978502     79.55    16579.0    2076                928   \n",
      "25             26     1458545     88.70     3702.0     974                538   \n",
      "26             27     1383727     65.38    83743.0    1682                834   \n",
      "27             28     1247953     85.85      490.0     714                686   \n",
      "28             29     1097206     91.33    21081.0     806                516   \n",
      "29             30     1055450     86.05      114.0     486                602   \n",
      "30             31      610577     81.42     7096.0     332                222   \n",
      "31             32      380581     86.63     8249.0     320                130   \n",
      "32             33      343709     76.24      491.0     216                 62   \n",
      "33             34      243247     87.10      111.0     136                 76   \n",
      "34             35       64473     91.85       30.0       6                 12   \n",
      "\n",
      "    CULPABLE HOMICIDE    RAPE  OTHER RAPE  KIDNAPPING & ABDUCTION  ...  \\\n",
      "10                1396  22860       22860                   19458  ...   \n",
      "11                3794  14894       14894                    5782  ...   \n",
      "12                2462  18318       18308                   16952  ...   \n",
      "13                1436  32356       32346                   55878  ...   \n",
      "14                3116  10918       10916                   15238  ...   \n",
      "15                 696  23676       23676                    6690  ...   \n",
      "16                1714  12820       12818                   17312  ...   \n",
      "17                1766  12848       12848                   50166  ...   \n",
      "18                 694   5620        5620                   19330  ...   \n",
      "19                1028   2756        2756                    5704  ...   \n",
      "20                 260   3608        3608                    3596  ...   \n",
      "21                  38   4116        4116                    2886  ...   \n",
      "22                 168   2040        2040                    1458  ...   \n",
      "23                  84    774         774                    3622  ...   \n",
      "24                 202    440         440                     784  ...   \n",
      "25                 134    700         700                     472  ...   \n",
      "26                  72   1000        1000                    1714  ...   \n",
      "27                 156    154         154                     338  ...   \n",
      "28                 134   1652        1650                     192  ...   \n",
      "29                 158    562         562                    1280  ...   \n",
      "30                  76    390         390                     152  ...   \n",
      "31                  42    218         218                     188  ...   \n",
      "32                   6    112         112                     282  ...   \n",
      "33                   4     40          40                      62  ...   \n",
      "34                   0     14          14                       2  ...   \n",
      "\n",
      "    TOTAL-OTHER PLACES  TOTAL - Dacoity  TOTAL - Robbery  TOTAL - Burglary  \\\n",
      "10               55758             1364             8329             46371   \n",
      "11               26417             5906             8711             16680   \n",
      "12               48011             4170             7467             34752   \n",
      "13               34985              460             1828             27621   \n",
      "14               47397             1468             5113             44656   \n",
      "15               79373             1375             5871             46504   \n",
      "16              155185              381             6461             23555   \n",
      "17               20838              188             1312             17050   \n",
      "18               13088              357             1990              5578   \n",
      "19               10243               45              236              9689   \n",
      "20                1991              197              721              2212   \n",
      "21                4421              798              972              1888   \n",
      "22                2837               48               83               755   \n",
      "23                1928              125             1042              1146   \n",
      "24                6650               55              298              3700   \n",
      "25                3192              260              843              2780   \n",
      "26                6193               38               89              1064   \n",
      "27                4246               45              114              4748   \n",
      "28                7755               31              397              2947   \n",
      "29                 582                6               64               877   \n",
      "30                 338               40               30               388   \n",
      "31                 542               36               27               525   \n",
      "32                  42                3                0                36   \n",
      "33                 935               15               74               892   \n",
      "34               59335             3381            14705             36505   \n",
      "\n",
      "    TOTAL - Theft  Police_Injured_Total_Policemen  \\\n",
      "10          62353                            8668   \n",
      "11          71322                             534   \n",
      "12          85475                             464   \n",
      "13          50503                             614   \n",
      "14          62873                             842   \n",
      "15         131394                             552   \n",
      "16         231546                            2266   \n",
      "17          25767                           10462   \n",
      "18          20035                             182   \n",
      "19           9658                             254   \n",
      "20           4353                             328   \n",
      "21           6004                             200   \n",
      "22           4834                              86   \n",
      "23           3802                              10   \n",
      "24           8045                             354   \n",
      "25           5178                              80   \n",
      "26           7366                             294   \n",
      "27           9803                              10   \n",
      "28          18474                             566   \n",
      "29           1019                               6   \n",
      "30            773                              22   \n",
      "31            613                               0   \n",
      "32            113                               0   \n",
      "33           1124                               0   \n",
      "34          82837                            1158   \n",
      "\n",
      "    Police_Killed_Total_Policemen  Cases_Property_Recovered  \\\n",
      "10                            122                     81294   \n",
      "11                            658                     38247   \n",
      "12                            286                     58574   \n",
      "13                           1844                     94791   \n",
      "14                            852                     75361   \n",
      "15                            718                    160311   \n",
      "16                            378                    185183   \n",
      "17                           1142                     25424   \n",
      "18                            186                     16353   \n",
      "19                             66                     11503   \n",
      "20                            294                      3558   \n",
      "21                             70                      4286   \n",
      "22                             96                       785   \n",
      "23                             10                      3229   \n",
      "24                              4                      6706   \n",
      "25                              2                      6404   \n",
      "26                              2                      8798   \n",
      "27                             38                     19371   \n",
      "28                             42                     18449   \n",
      "29                             26                      1068   \n",
      "30                             10                      1584   \n",
      "31                              0                      1281   \n",
      "32                              0                       651   \n",
      "33                              0                       115   \n",
      "34                            232                    109710   \n",
      "\n",
      "    Cases_Property_Stolen  Cases_Registered_under_Human_Rights_Violations  \n",
      "10                 246847                                               0  \n",
      "11                 192610                                              16  \n",
      "12                 260312                                               6  \n",
      "13                 175301                                             302  \n",
      "14                 218707                                              22  \n",
      "15                 380353                                             624  \n",
      "16                 635795                                              22  \n",
      "17                  84564                                              24  \n",
      "18                  48127                                              36  \n",
      "19                  37781                                               2  \n",
      "20                  15025                                               0  \n",
      "21                  18543                                               0  \n",
      "22                  13572                                               0  \n",
      "23                  13639                                               6  \n",
      "24                  22274                                               0  \n",
      "25                  17536                                               6  \n",
      "26                  17909                                              40  \n",
      "27                  27498                                               2  \n",
      "28                  50266                                               0  \n",
      "29                   3441                                               2  \n",
      "30                   3753                                               0  \n",
      "31                   2935                                              62  \n",
      "32                   2386                                               0  \n",
      "33                    383                                               0  \n",
      "34                 242469                                               0  \n",
      "\n",
      "[25 rows x 52 columns]\n"
     ]
    }
   ],
   "source": [
    "cluster_2=data[y_kmeans==1]\n",
    "print(cluster_2)"
   ]
  },
  {
   "cell_type": "code",
   "execution_count": 25,
   "id": "4b01b613",
   "metadata": {},
   "outputs": [
    {
     "name": "stdout",
     "output_type": "stream",
     "text": [
      "   STATE/UT_code  Population  Literacy  Area(Km2)  MURDER  ATTEMPT TO MURDER  \\\n",
      "0              1   199812341     67.68   240928.0  130886             121040   \n",
      "\n",
      "   CULPABLE HOMICIDE    RAPE  OTHER RAPE  KIDNAPPING & ABDUCTION  ...  \\\n",
      "0               34532  38116       38112                  118532  ...   \n",
      "\n",
      "   TOTAL-OTHER PLACES  TOTAL - Dacoity  TOTAL - Robbery  TOTAL - Burglary  \\\n",
      "0              144512             4809            30767             65587   \n",
      "\n",
      "   TOTAL - Theft  Police_Injured_Total_Policemen  \\\n",
      "0         312047                            2318   \n",
      "\n",
      "   Police_Killed_Total_Policemen  Cases_Property_Recovered  \\\n",
      "0                           2150                    194531   \n",
      "\n",
      "   Cases_Property_Stolen  Cases_Registered_under_Human_Rights_Violations  \n",
      "0                 672276                                             108  \n",
      "\n",
      "[1 rows x 52 columns]\n"
     ]
    }
   ],
   "source": [
    "cluster_3=data[y_kmeans==2]\n",
    "print(cluster_3)"
   ]
  },
  {
   "cell_type": "code",
   "execution_count": null,
   "id": "e4a25c7d",
   "metadata": {},
   "outputs": [],
   "source": []
  },
  {
   "cell_type": "markdown",
   "id": "f32afe01",
   "metadata": {},
   "source": [
    "ABOUT CAPSTONE PROJECT "
   ]
  },
  {
   "cell_type": "markdown",
   "id": "da00fc34",
   "metadata": {},
   "source": [
    "This project has been built to analysis the crime rate in different part of india.this dataset donot contain any label so in this clustering based algorithm Kmean is used."
   ]
  },
  {
   "cell_type": "markdown",
   "id": "fc63742b",
   "metadata": {},
   "source": [
    "DATASET:- data for this project was provided by data trained team and some data has been taken from goverment websites to complete the project.data set contain different type of crimes that are done inour society and in different part of india.data is also given for different place of occurence that is rate of crime held at different places like residentail place ,banks, near sea and water,commercial place and other places. "
   ]
  },
  {
   "cell_type": "markdown",
   "id": "33301413",
   "metadata": {},
   "source": [
    "In this project data has been analysed for every data set provide by data trained.following analysis has been done "
   ]
  },
  {
   "cell_type": "markdown",
   "id": "8408cc23",
   "metadata": {},
   "source": [
    "state which are highly populated have high rate of crime.mainly UP,maharastra,MP,AP,Rajasthan and other.\n"
   ]
  },
  {
   "cell_type": "markdown",
   "id": "3a548938",
   "metadata": {},
   "source": [
    "northeast state except in some cases assam and UT except delhi have very less rate of crime.in many observations these ut and states are showing almost negiliable."
   ]
  },
  {
   "cell_type": "markdown",
   "id": "7b7d2f4a",
   "metadata": {},
   "source": [
    "when data is observed year by year wise it can be infered that year by year from 2001 to 2010 crime is increasing .it is showing positive trend in the graph."
   ]
  },
  {
   "cell_type": "markdown",
   "id": "5d42cd69",
   "metadata": {},
   "source": [
    "Crime also depend on literacy rate,generally state having high literacy rate there crime is low except kerala there literacy rate is good but crime rate is also high.\n"
   ]
  },
  {
   "cell_type": "markdown",
   "id": "6320c66c",
   "metadata": {},
   "source": [
    "crime against sc -it can be observed that maximum cases of crime against sc can be observed in UP followed by rajasthan,andhra pradesh and madhya pradesh."
   ]
  },
  {
   "cell_type": "markdown",
   "id": "dec77bc9",
   "metadata": {},
   "source": [
    "crime against st-Major state for crime against st are MP,rajasthan,andhra pradesh,chattisgarh,odisha.it can also be analysed that state having low population have less number of crime against st"
   ]
  },
  {
   "cell_type": "markdown",
   "id": "7181bb49",
   "metadata": {},
   "source": [
    "CRIME AGAINST CHILDREN-offence against children can be majorly seen in madhya pradesh,rajasthan,andhra padesh,odisha,chattisgarh.it can also observed from scatterplot that low populated state have low crime against children."
   ]
  },
  {
   "cell_type": "markdown",
   "id": "b554e14c",
   "metadata": {},
   "source": [
    "CRIME AGAINST WOMEN-major state for crime against women are UP,Maharastra,west bengal,andhra pradesh,madhya pradesh.state with high population are showing more crime against women and state with less population are showing low crime rate.here kerala is exception as it is low population but accordingly crime is high"
   ]
  },
  {
   "cell_type": "markdown",
   "id": "998bd29a",
   "metadata": {},
   "source": [
    "PROPERTY STOLEN CRIME-property stolen cases are very less in north east state,union territory and in hilly states.maximum case of stolen is in maharastra than MP, at third it is andra pradesh irrespective to population"
   ]
  },
  {
   "cell_type": "markdown",
   "id": "308c6bbf",
   "metadata": {},
   "source": [
    "when crime rate is analysed near sea and water many UT and north east state are also showing some value in crime rate.these are dadra and nighar haveli,andamon and nicobar,mizoram,goa.highest is showing for maharastra"
   ]
  },
  {
   "cell_type": "markdown",
   "id": "5fc2de4a",
   "metadata": {},
   "source": [
    "Crimes on Highway are mainly done in uttar pradesh and some are observed in bihar."
   ]
  },
  {
   "cell_type": "markdown",
   "id": "395fbcc3",
   "metadata": {},
   "source": [
    "when we observe data for place of occurance data can be infered as follow\n"
   ]
  },
  {
   "cell_type": "markdown",
   "id": "d4cab812",
   "metadata": {},
   "source": [
    "banking:-major part of crime done at bank is in MAHARASTRA followed by karnataka."
   ]
  },
  {
   "cell_type": "markdown",
   "id": "5d589392",
   "metadata": {},
   "source": [
    "railway :- major portion of crime done in rail or in railway premises is maharastra,uttar pradesh and MP."
   ]
  },
  {
   "cell_type": "markdown",
   "id": "31939168",
   "metadata": {},
   "source": [
    "for residentail place:- mainly crime rate is high in following states maharastra,uttar pradesh,andhra pradesh and madhya pradesh.rest state also contribute some parts"
   ]
  },
  {
   "cell_type": "markdown",
   "id": "9c6d3b80",
   "metadata": {},
   "source": [
    "At commercial place-uttar pradesh is showing low crime rate than other state when we consider its population.maharastra is showing maximum crime rate.rest state are also showing some crime rate."
   ]
  },
  {
   "cell_type": "markdown",
   "id": "afb3289f",
   "metadata": {},
   "source": [
    "when analysis is done by type of crime following observations are done"
   ]
  },
  {
   "cell_type": "markdown",
   "id": "0e6c76c3",
   "metadata": {},
   "source": [
    "Dacoity- maximum dacoity cases can be seen in bihar followed by maharastra than uttar pradesh and jharkand. other state also shows some trend for this type of crime."
   ]
  },
  {
   "cell_type": "markdown",
   "id": "259b837f",
   "metadata": {},
   "source": [
    "Robbery-In case of robbery north east state and union territory are showing least cases,maximum cases of robbery can be seen in maharastra and at second UP and than bihar."
   ]
  },
  {
   "cell_type": "markdown",
   "id": "90f123ac",
   "metadata": {},
   "source": [
    "Burglary-union territory and north east state are showing least crime of burglury and maharastra is showing maximum,after that MP,AP,KARNATAKA,UP"
   ]
  },
  {
   "cell_type": "markdown",
   "id": "2fe7c484",
   "metadata": {},
   "source": [
    "Theft-when it is observed total theft maharastra is showing max value for total theft and at second UP.islands of india and sikkam  in graph show almost null theft."
   ]
  },
  {
   "cell_type": "markdown",
   "id": "634f6d73",
   "metadata": {},
   "source": [
    "Police killed or injured on duty-observation for this type of crime donot following population trend.it is observed that maximum cases are in maharastra and than jammu and kashmir is also showing large no of cases.west bengal and kerala is also showing large cases of policeman injured and death."
   ]
  },
  {
   "cell_type": "markdown",
   "id": "ad51581d",
   "metadata": {},
   "source": [
    "juvenile_apprehended-it can be observed that MP and maharastra are having all number of boys those who have been apprehended,we can also observed highly populated UP is showing very less counts and west bengal is also showing lesser number according to its population.same pattern can be observed for girls count also except in this case only gujrat is showing some numbers which is considerable.rest state are showing low apprehendtion"
   ]
  },
  {
   "cell_type": "markdown",
   "id": "0baded96",
   "metadata": {},
   "source": [
    "From overll juvenile apprehend we can conclude that alone maharastra and MP is showing half count.rest some other state are also showing the count which can be considered that are rajasthan,gujrat,chattisgarh,andhra pradesh and other"
   ]
  },
  {
   "cell_type": "markdown",
   "id": "5794c289",
   "metadata": {},
   "source": [
    "Human right violation-it can be concluded that chattisgarh alone have larger number of cases registered under human violation after that gujrat, andhra pradesh,assam.rest state are very few in numbers"
   ]
  },
  {
   "cell_type": "markdown",
   "id": "d82b634c",
   "metadata": {},
   "source": [
    "policeman convicted-it can be observed that 70 to 75 % police man is found convicted in state of chattisgarh,nearly 15 to 20 % in bihar.rest in other states"
   ]
  },
  {
   "cell_type": "markdown",
   "id": "8b7f49b9",
   "metadata": {},
   "source": [
    "THESE POINTS WERE ANALYSED WITH THE HELP OF VISUALIZATION \n",
    "catplot,bar plot ,scatterplot and pie chart were ploted for observing the data and analysing the data. data set for building the model was takem from the data set used for analysing the data."
   ]
  },
  {
   "cell_type": "markdown",
   "id": "119c239d",
   "metadata": {},
   "source": [
    "After analysis part was done SQL query phrases 3 is completed and model is builded in the same juypter notebook.  "
   ]
  },
  {
   "cell_type": "code",
   "execution_count": null,
   "id": "49c0bcdd",
   "metadata": {},
   "outputs": [],
   "source": []
  }
 ],
 "metadata": {
  "kernelspec": {
   "display_name": "Python 3 (ipykernel)",
   "language": "python",
   "name": "python3"
  },
  "language_info": {
   "codemirror_mode": {
    "name": "ipython",
    "version": 3
   },
   "file_extension": ".py",
   "mimetype": "text/x-python",
   "name": "python",
   "nbconvert_exporter": "python",
   "pygments_lexer": "ipython3",
   "version": "3.9.7"
  }
 },
 "nbformat": 4,
 "nbformat_minor": 5
}
